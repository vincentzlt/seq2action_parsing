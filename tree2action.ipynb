{
 "cells": [
  {
   "cell_type": "code",
   "execution_count": 3,
   "metadata": {
    "collapsed": true
   },
   "outputs": [],
   "source": [
    "from pprint import pprint\n",
    "from collections import namedtuple\n",
    "import pickle"
   ]
  },
  {
   "cell_type": "code",
   "execution_count": 4,
   "metadata": {
    "collapsed": true
   },
   "outputs": [],
   "source": [
    "train_file=\"./data/ud-treebanks-conll2017/UD_English/en-ud-train.conllu\"\n",
    "test_file=\"./data/ud-treebanks-conll2017/UD_English/en-ud-dev.conllu\""
   ]
  },
  {
   "cell_type": "code",
   "execution_count": 5,
   "metadata": {
    "collapsed": true
   },
   "outputs": [],
   "source": [
    "word_info=namedtuple(\"word_info\",\"id word pos head rel\".split())"
   ]
  },
  {
   "cell_type": "code",
   "execution_count": 6,
   "metadata": {
    "collapsed": true
   },
   "outputs": [],
   "source": [
    "data=[]\n",
    "sentence=[]\n",
    "\n",
    "for line in open(train_file,\"r\",encoding=\"utf-8\"):\n",
    "    if not line.startswith(\"# \"):\n",
    "        line=line[:-1]\n",
    "#         print(line)\n",
    "\n",
    "        if len(line)!=0:\n",
    "            ID,word,base, pos, pos1,_,head,rel,_,_=line.split(\"\\t\")\n",
    "            if \".\" not in ID:\n",
    "                ID=int(ID)-1\n",
    "                head=int(head)-1\n",
    "\n",
    "                sentence.append(word_info(ID,word,pos,head,rel))\n",
    "        else:\n",
    "            data.append(sentence)\n",
    "            sentence=[]\n"
   ]
  },
  {
   "cell_type": "code",
   "execution_count": 26,
   "metadata": {
    "collapsed": true
   },
   "outputs": [],
   "source": [
    "pickle.dump(data,open(\"data.pkl\",\"wb\"))"
   ]
  },
  {
   "cell_type": "code",
   "execution_count": 24,
   "metadata": {},
   "outputs": [
    {
     "data": {
      "text/plain": [
       "[word_info(id=0, word='Al', pos='PROPN', head=-1, rel='root'),\n",
       " word_info(id=1, word='-', pos='PUNCT', head=0, rel='punct'),\n",
       " word_info(id=2, word='Zaman', pos='PROPN', head=0, rel='flat'),\n",
       " word_info(id=3, word=':', pos='PUNCT', head=0, rel='punct'),\n",
       " word_info(id=4, word='American', pos='ADJ', head=5, rel='amod'),\n",
       " word_info(id=5, word='forces', pos='NOUN', head=6, rel='nsubj'),\n",
       " word_info(id=6, word='killed', pos='VERB', head=0, rel='parataxis'),\n",
       " word_info(id=7, word='Shaikh', pos='PROPN', head=6, rel='obj'),\n",
       " word_info(id=8, word='Abdullah', pos='PROPN', head=7, rel='flat'),\n",
       " word_info(id=9, word='al', pos='PROPN', head=7, rel='flat'),\n",
       " word_info(id=10, word='-', pos='PUNCT', head=7, rel='punct'),\n",
       " word_info(id=11, word='Ani', pos='PROPN', head=7, rel='flat'),\n",
       " word_info(id=12, word=',', pos='PUNCT', head=7, rel='punct'),\n",
       " word_info(id=13, word='the', pos='DET', head=14, rel='det'),\n",
       " word_info(id=14, word='preacher', pos='NOUN', head=7, rel='appos'),\n",
       " word_info(id=15, word='at', pos='ADP', head=17, rel='case'),\n",
       " word_info(id=16, word='the', pos='DET', head=17, rel='det'),\n",
       " word_info(id=17, word='mosque', pos='NOUN', head=6, rel='obl'),\n",
       " word_info(id=18, word='in', pos='ADP', head=20, rel='case'),\n",
       " word_info(id=19, word='the', pos='DET', head=20, rel='det'),\n",
       " word_info(id=20, word='town', pos='NOUN', head=17, rel='nmod'),\n",
       " word_info(id=21, word='of', pos='ADP', head=22, rel='case'),\n",
       " word_info(id=22, word='Qaim', pos='PROPN', head=20, rel='nmod'),\n",
       " word_info(id=23, word=',', pos='PUNCT', head=20, rel='punct'),\n",
       " word_info(id=24, word='near', pos='ADP', head=27, rel='case'),\n",
       " word_info(id=25, word='the', pos='DET', head=27, rel='det'),\n",
       " word_info(id=26, word='Syrian', pos='ADJ', head=27, rel='amod'),\n",
       " word_info(id=27, word='border', pos='NOUN', head=20, rel='nmod'),\n",
       " word_info(id=28, word='.', pos='PUNCT', head=0, rel='punct')]"
      ]
     },
     "execution_count": 24,
     "metadata": {},
     "output_type": "execute_result"
    }
   ],
   "source": [
    "data[0]"
   ]
  },
  {
   "cell_type": "code",
   "execution_count": 2,
   "metadata": {
    "code_folding": [],
    "scrolled": false
   },
   "outputs": [
    {
     "ename": "NameError",
     "evalue": "name 'data' is not defined",
     "output_type": "error",
     "traceback": [
      "\u001b[0;31m---------------------------------------------------------------------------\u001b[0m",
      "\u001b[0;31mNameError\u001b[0m                                 Traceback (most recent call last)",
      "\u001b[0;32m<ipython-input-2-be7af51847ed>\u001b[0m in \u001b[0;36m<module>\u001b[0;34m()\u001b[0m\n\u001b[1;32m      2\u001b[0m \u001b[0moutputs\u001b[0m\u001b[0;34m=\u001b[0m\u001b[0;34m[\u001b[0m\u001b[0;34m]\u001b[0m\u001b[0;34m\u001b[0m\u001b[0m\n\u001b[1;32m      3\u001b[0m \u001b[0;34m\u001b[0m\u001b[0m\n\u001b[0;32m----> 4\u001b[0;31m \u001b[0;32mfor\u001b[0m \u001b[0msent\u001b[0m \u001b[0;32min\u001b[0m \u001b[0mdata\u001b[0m\u001b[0;34m:\u001b[0m\u001b[0;34m\u001b[0m\u001b[0m\n\u001b[0m\u001b[1;32m      5\u001b[0m     \u001b[0mstack\u001b[0m\u001b[0;34m=\u001b[0m\u001b[0;34m[\u001b[0m\u001b[0mword_info\u001b[0m\u001b[0;34m(\u001b[0m\u001b[0;34m-\u001b[0m\u001b[0;36m1\u001b[0m\u001b[0;34m,\u001b[0m\u001b[0;34m\"ROOT\"\u001b[0m\u001b[0;34m,\u001b[0m\u001b[0;34m\"ROOT\"\u001b[0m\u001b[0;34m,\u001b[0m\u001b[0;32mNone\u001b[0m\u001b[0;34m,\u001b[0m\u001b[0;32mNone\u001b[0m\u001b[0;34m)\u001b[0m\u001b[0;34m]\u001b[0m\u001b[0;34m\u001b[0m\u001b[0m\n\u001b[1;32m      6\u001b[0m     \u001b[0mbuffer\u001b[0m\u001b[0;34m=\u001b[0m\u001b[0msent\u001b[0m\u001b[0;34m[\u001b[0m\u001b[0;34m:\u001b[0m\u001b[0;34m]\u001b[0m\u001b[0;34m\u001b[0m\u001b[0m\n",
      "\u001b[0;31mNameError\u001b[0m: name 'data' is not defined"
     ]
    }
   ],
   "source": [
    "actions=[]\n",
    "outputs=[]\n",
    "\n",
    "for sent in data:\n",
    "    stack=[word_info(-1,\"ROOT\",\"ROOT\",None,None)]\n",
    "    buffer=sent[:]\n",
    "    while len(buffer)>0 and len(stack)>0:\n",
    "       \n",
    "        if len(stack)>2:\n",
    "            next_child_id=next_child(stack[-1],buffer)\n",
    "        \n",
    "            while next_child_id!=0:\n",
    "                stack,buffer,actions=swap_next_child(stack,buffer,actions,next_child_id)\n",
    "                next_child_id=next_child(stack[-1],buffer)\n",
    "                \n",
    "            if stack[-1].head==stack[-2].id:\n",
    "                _=stack.pop(-1)\n",
    "                actions.append(\"right-reduce\")\n",
    "                print(\"{:15} [{:>20}] [{:40}]\".format(\"right-reduce\",\n",
    "                                            \" \".join([wi.word for wi in stack]),\n",
    "                                            \" \".join([wi.word for wi in buffer])))\n",
    "            elif stack[-2].head==stack[-1].id:\n",
    "                _=stack.pop(-2)\n",
    "                actions.append(\"left-reduce\")\n",
    "                print(\"{:15} [{:>20}] [{:40}]\".format(\"left-reduce\",\n",
    "                                            \" \".join([wi.word for wi in stack]),\n",
    "                                            \" \".join([wi.word for wi in buffer])))\n",
    "            else:\n",
    "                stack.append(buffer.pop(0))\n",
    "                actions.append(\"shift\")\n",
    "                print(\"{:15} [{:>20}] [{:40}]\".format(\"shift\",\n",
    "                                                    \" \".join([wi.word for wi in stack]),\n",
    "                                                    \" \".join([wi.word for wi in buffer])))\n",
    "        elif len(stack)>1:\n",
    "            next_child_id=next_child(stack[-1],buffer)\n",
    "        \n",
    "            while next_child_id!=0:\n",
    "                stack,buffer,actions=swap_next_child(stack,buffer,actions,next_child_id)\n",
    "                next_child_id=next_child(stack[-1],buffer)\n",
    "                \n",
    "            stack.append(buffer.pop(0))\n",
    "            actions.append(\"shift\")\n",
    "            print(\"{:15} [{:>20}] [{:40}]\".format(\"shift\",\n",
    "                                                    \" \".join([wi.word for wi in stack]),\n",
    "                                                    \" \".join([wi.word for wi in buffer])))\n",
    "            if stack[-1].head==stack[-2].id:\n",
    "                _=stack.pop(-1)\n",
    "                actions.append(\"right-reduce\")\n",
    "                print(\"{:15} [{:>20}] [{:40}]\".format(\"right-reduce\",\n",
    "                                            \" \".join([wi.word for wi in stack]),\n",
    "                                            \" \".join([wi.word for wi in buffer])))\n",
    "            elif stack[-2].head==stack[-1].id:\n",
    "                _=stack.pop(-2)\n",
    "                actions.append(\"left-reduce\")\n",
    "                print(\"{:15} [{:>20}] [{:40}]\".format(\"left-reduce\",\n",
    "                                            \" \".join([wi.word for wi in stack]),\n",
    "                                                \" \".join([wi.word for wi in buffer])))\n",
    "            \n",
    "        else:\n",
    "            stack.append(buffer.pop(0))\n",
    "            actions.append(\"shift\")\n",
    "            print(\"{:15} [{:>20}] [{:40}]\".format(\"shift\",\n",
    "                                                    \" \".join([wi.word for wi in stack]),\n",
    "                                                    \" \".join([wi.word for wi in buffer])))\n",
    "            if stack[-1].head==stack[-2].id:\n",
    "                _=stack.pop(-1)\n",
    "                actions.append(\"right-reduce\")\n",
    "                print(\"{:15} [{:>20}] [{:40}]\".format(\"right-reduce\",\n",
    "                                            \" \".join([wi.word for wi in stack]),\n",
    "                                            \" \".join([wi.word for wi in buffer])))\n",
    "            elif stack[-2].head==stack[-1].id:\n",
    "                _=stack.pop(-2)\n",
    "                actions.append(\"left-reduce\")\n",
    "                print(\"{:15} [{:>20}] [{:40}]\".format(\"left-reduce\",\n",
    "                                            \" \".join([wi.word for wi in stack]),\n",
    "                                                \" \".join([wi.word for wi in buffer])))\n",
    "    while len(buffer)==0 and len(stack)>2 and len(stack)>2:\n",
    "        if stack[-1].head==stack[-2].id:\n",
    "            _=stack.pop(-1)\n",
    "            actions.append(\"right-reduce\")\n",
    "            print(\"{:15} [{:>20}] [{:40}]\".format(\"right-reduce\",\n",
    "                                        \" \".join([wi.word for wi in stack]),\n",
    "                                        \" \".join([wi.word for wi in buffer])))\n",
    "        elif stack[-2].head==stack[-1].id:\n",
    "            _=stack.pop(-2)\n",
    "            actions.append(\"left-reduce\")\n",
    "            print(\"{:15} [{:>20}] [{:40}]\".format(\"left-reduce\",\n",
    "                                        \" \".join([wi.word for wi in stack]),\n",
    "                                            \" \".join([wi.word for wi in buffer])))\n",
    "    \n",
    "    outputs.append(actions)\n",
    "    actions=[]"
   ]
  },
  {
   "cell_type": "code",
   "execution_count": 7,
   "metadata": {
    "collapsed": true
   },
   "outputs": [],
   "source": [
    "def swap_next_child(stack,buffer,actions,next_child_id):\n",
    "    while stack[-1].id!=next_child_id:\n",
    "        stack.append(buffer.pop(0))\n",
    "        actions.append(\"shift\")\n",
    "        print(\"{:15} [{:>20}] [{:40}]\".format(\"shift\",\n",
    "                                            \" \".join([wi.word for wi in stack]),\n",
    "                                            \" \".join([wi.word for wi in buffer])))\n",
    "    while stack[-2].id!=stack[-1].head:\n",
    "        buffer.insert(0,stack.pop(-2))\n",
    "        actions.append(\"swap\")\n",
    "        print(\"{:15} [{:>20}] [{:40}]\".format(\"swap\",\n",
    "                                            \" \".join([wi.word for wi in stack]),\n",
    "                                            \" \".join([wi.word for wi in buffer])))\n",
    "    return stack,buffer,actions"
   ]
  },
  {
   "cell_type": "code",
   "execution_count": 8,
   "metadata": {
    "collapsed": true
   },
   "outputs": [],
   "source": [
    "def next_child(word,buffer):\n",
    "    for wi in buffer:\n",
    "        if wi.head==word.id:\n",
    "            return wi.id\n",
    "    return 0"
   ]
  },
  {
   "cell_type": "code",
   "execution_count": 11,
   "metadata": {
    "collapsed": true
   },
   "outputs": [],
   "source": [
    "pickle.dump(outputs,open(\"parsing_sequences.pkl\",\"wb\"))"
   ]
  }
 ],
 "metadata": {
  "kernelspec": {
   "display_name": "Python 3",
   "language": "python",
   "name": "python3"
  },
  "language_info": {
   "codemirror_mode": {
    "name": "ipython",
    "version": 3
   },
   "file_extension": ".py",
   "mimetype": "text/x-python",
   "name": "python",
   "nbconvert_exporter": "python",
   "pygments_lexer": "ipython3",
   "version": "3.5.0"
  }
 },
 "nbformat": 4,
 "nbformat_minor": 2
}
