{
 "cells": [
  {
   "cell_type": "code",
   "execution_count": 1,
   "metadata": {
    "collapsed": true
   },
   "outputs": [],
   "source": [
    "from pprint import pprint\n",
    "from collections import namedtuple\n",
    "import pickle"
   ]
  },
  {
   "cell_type": "code",
   "execution_count": 2,
   "metadata": {
    "collapsed": true
   },
   "outputs": [],
   "source": [
    "train_file=\"./data/ud-treebanks-conll2017/UD_English/en-ud-train.conllu\"\n",
    "test_file=\"./data/ud-treebanks-conll2017/UD_English/en-ud-dev.conllu\""
   ]
  },
  {
   "cell_type": "code",
   "execution_count": 3,
   "metadata": {
    "collapsed": true
   },
   "outputs": [],
   "source": [
    "word_info=namedtuple(\"word_info\",\"id word pos head rel\".split())"
   ]
  },
  {
   "cell_type": "code",
   "execution_count": 4,
   "metadata": {
    "collapsed": true
   },
   "outputs": [],
   "source": [
    "data=[]\n",
    "sentence=[]\n",
    "\n",
    "for line in open(train_file,\"r\",encoding=\"utf-8\"):\n",
    "    if not line.startswith(\"# \"):\n",
    "        line=line[:-1]\n",
    "#         print(line)\n",
    "\n",
    "        if len(line)!=0:\n",
    "            ID,word,base, pos, pos1,_,head,rel,_,_=line.split(\"\\t\")\n",
    "            if \".\" not in ID:\n",
    "                ID=int(ID)-1\n",
    "                head=int(head)-1\n",
    "\n",
    "                sentence.append(word_info(ID,word,pos,head,rel))\n",
    "        else:\n",
    "            data.append(sentence)\n",
    "            sentence=[]\n"
   ]
  },
  {
   "cell_type": "code",
   "execution_count": 5,
   "metadata": {
    "collapsed": true
   },
   "outputs": [],
   "source": [
    "pickle.dump(data,open(\"data.pkl\",\"wb\"))"
   ]
  },
  {
   "cell_type": "code",
   "execution_count": null,
   "metadata": {
    "collapsed": true
   },
   "outputs": [],
   "source": []
  }
 ],
 "metadata": {
  "kernelspec": {
   "display_name": "Python 3",
   "language": "python",
   "name": "python3"
  },
  "language_info": {
   "codemirror_mode": {
    "name": "ipython",
    "version": 3
   },
   "file_extension": ".py",
   "mimetype": "text/x-python",
   "name": "python",
   "nbconvert_exporter": "python",
   "pygments_lexer": "ipython3",
   "version": "3.5.0"
  }
 },
 "nbformat": 4,
 "nbformat_minor": 2
}
