{
 "cells": [
  {
   "cell_type": "code",
   "execution_count": 21,
   "metadata": {
    "collapsed": true
   },
   "outputs": [],
   "source": [
    "from pprint import pprint\n",
    "from collections import namedtuple"
   ]
  },
  {
   "cell_type": "code",
   "execution_count": 2,
   "metadata": {
    "collapsed": true
   },
   "outputs": [],
   "source": [
    "train_file=\"./toy_train.txt\""
   ]
  },
  {
   "cell_type": "code",
   "execution_count": 23,
   "metadata": {},
   "outputs": [],
   "source": [
    "word_info=namedtuple(\"word_info\",\"id word pos head rel\".split())"
   ]
  },
  {
   "cell_type": "code",
   "execution_count": 24,
   "metadata": {},
   "outputs": [],
   "source": [
    "data=[]\n",
    "sentence=[]\n",
    "\n",
    "for line in open(train_file,\"r\",encoding=\"utf-8\"):\n",
    "    line=line[:-1]\n",
    "    \n",
    "    if len(line)!=0:\n",
    "        ID,word,base, pos, pos1,_,head,rel=line.split(\"\\t\")\n",
    "        ID=int(ID)-1\n",
    "        head=int(head)-1\n",
    "        \n",
    "        sentence.append(word_info(ID,word,pos,head,rel))\n",
    "    else:\n",
    "        data.append(sentence)\n",
    "        sentence=[]\n",
    "        "
   ]
  },
  {
   "cell_type": "code",
   "execution_count": 26,
   "metadata": {},
   "outputs": [
    {
     "name": "stdout",
     "output_type": "stream",
     "text": [
      "[[word_info(id=0, word='rolls-royce', pos='NNP', head=3, rel='DEP'),\n",
      "  word_info(id=1, word='motor', pos='NNP', head=3, rel='DEP'),\n",
      "  word_info(id=2, word='cars', pos='NNPS', head=3, rel='DEP'),\n",
      "  word_info(id=3, word='inc.', pos='NNP', head=4, rel='NP-SBJ'),\n",
      "  word_info(id=4, word='said', pos='VBD', head=-1, rel='ROOT'),\n",
      "  word_info(id=5, word='it', pos='PRP', head=6, rel='NP-SBJ'),\n",
      "  word_info(id=6, word='expects', pos='VBZ', head=4, rel='SBAR'),\n",
      "  word_info(id=7, word='its', pos='PRP$', head=9, rel='DEP'),\n",
      "  word_info(id=8, word='u.s.', pos='NNP', head=9, rel='DEP'),\n",
      "  word_info(id=9, word='sales', pos='NNS', head=11, rel='NP-SBJ'),\n",
      "  word_info(id=10, word='to', pos='TO', head=11, rel='DEP'),\n",
      "  word_info(id=11, word='remain', pos='VB', head=6, rel='S'),\n",
      "  word_info(id=12, word='steady', pos='JJ', head=11, rel='ADJP'),\n",
      "  word_info(id=13, word='at', pos='IN', head=11, rel='PP'),\n",
      "  word_info(id=14, word='about', pos='IN', head=16, rel='QP'),\n",
      "  word_info(id=15, word='1,200', pos='CD', head=14, rel='DEP'),\n",
      "  word_info(id=16, word='cars', pos='NNS', head=13, rel='NP'),\n",
      "  word_info(id=17, word='in', pos='IN', head=11, rel='PP'),\n",
      "  word_info(id=18, word='1990', pos='CD', head=17, rel='NP'),\n",
      "  word_info(id=19, word='.', pos='.', head=4, rel='DEP')]]\n"
     ]
    }
   ],
   "source": [
    "pprint(data)"
   ]
  },
  {
   "cell_type": "code",
   "execution_count": 46,
   "metadata": {
    "scrolled": false
   },
   "outputs": [
    {
     "name": "stdout",
     "output_type": "stream",
     "text": [
      "shift           [    ROOT rolls-royce] [motor cars inc. said it expects its u.s. sales to remain steady at about 1,200 cars in 1990 .]\n",
      "shift           [ROOT rolls-royce motor] [cars inc. said it expects its u.s. sales to remain steady at about 1,200 cars in 1990 .]\n",
      "shift           [ROOT rolls-royce motor cars] [inc. said it expects its u.s. sales to remain steady at about 1,200 cars in 1990 .]\n",
      "shift           [ROOT rolls-royce motor cars inc.] [said it expects its u.s. sales to remain steady at about 1,200 cars in 1990 .]\n",
      "left-reduce     [ROOT rolls-royce motor inc.] [said it expects its u.s. sales to remain steady at about 1,200 cars in 1990 .]\n",
      "left-reduce     [ROOT rolls-royce inc.] [said it expects its u.s. sales to remain steady at about 1,200 cars in 1990 .]\n",
      "left-reduce     [           ROOT inc.] [said it expects its u.s. sales to remain steady at about 1,200 cars in 1990 .]\n",
      "shift           [      ROOT inc. said] [it expects its u.s. sales to remain steady at about 1,200 cars in 1990 .]\n",
      "shift           [   ROOT inc. said it] [expects its u.s. sales to remain steady at about 1,200 cars in 1990 .]\n",
      "shift           [ROOT inc. said it expects] [its u.s. sales to remain steady at about 1,200 cars in 1990 .]\n",
      "swap            [ROOT inc. said expects] [it its u.s. sales to remain steady at about 1,200 cars in 1990 .]\n",
      "shift           [ROOT inc. said expects it] [its u.s. sales to remain steady at about 1,200 cars in 1990 .]\n",
      "right-reduce    [ROOT inc. said expects] [its u.s. sales to remain steady at about 1,200 cars in 1990 .]\n",
      "shift           [ROOT inc. said expects its] [u.s. sales to remain steady at about 1,200 cars in 1990 .]\n",
      "shift           [ROOT inc. said expects its u.s.] [sales to remain steady at about 1,200 cars in 1990 .]\n",
      "shift           [ROOT inc. said expects its u.s. sales] [to remain steady at about 1,200 cars in 1990 .]\n",
      "shift           [ROOT inc. said expects its u.s. sales to] [remain steady at about 1,200 cars in 1990 .]\n",
      "shift           [ROOT inc. said expects its u.s. sales to remain] [steady at about 1,200 cars in 1990 .    ]\n",
      "swap            [ROOT inc. said expects its u.s. sales remain] [to steady at about 1,200 cars in 1990 . ]\n",
      "swap            [ROOT inc. said expects its u.s. remain] [sales to steady at about 1,200 cars in 1990 .]\n",
      "swap            [ROOT inc. said expects its remain] [u.s. sales to steady at about 1,200 cars in 1990 .]\n",
      "swap            [ROOT inc. said expects remain] [its u.s. sales to steady at about 1,200 cars in 1990 .]\n",
      "shift           [ROOT inc. said expects remain its] [u.s. sales to steady at about 1,200 cars in 1990 .]\n",
      "shift           [ROOT inc. said expects remain its u.s.] [sales to steady at about 1,200 cars in 1990 .]\n",
      "shift           [ROOT inc. said expects remain its u.s. sales] [to steady at about 1,200 cars in 1990 . ]\n",
      "swap            [ROOT inc. said expects remain its sales] [u.s. to steady at about 1,200 cars in 1990 .]\n",
      "swap            [ROOT inc. said expects remain sales] [its u.s. to steady at about 1,200 cars in 1990 .]\n",
      "shift           [ROOT inc. said expects remain sales its] [u.s. to steady at about 1,200 cars in 1990 .]\n",
      "right-reduce    [ROOT inc. said expects remain sales] [u.s. to steady at about 1,200 cars in 1990 .]\n",
      "shift           [ROOT inc. said expects remain sales u.s.] [to steady at about 1,200 cars in 1990 . ]\n",
      "right-reduce    [ROOT inc. said expects remain sales] [to steady at about 1,200 cars in 1990 . ]\n",
      "right-reduce    [ROOT inc. said expects remain] [to steady at about 1,200 cars in 1990 . ]\n",
      "shift           [ROOT inc. said expects remain to] [steady at about 1,200 cars in 1990 .    ]\n",
      "right-reduce    [ROOT inc. said expects remain] [steady at about 1,200 cars in 1990 .    ]\n",
      "shift           [ROOT inc. said expects remain steady] [at about 1,200 cars in 1990 .           ]\n",
      "right-reduce    [ROOT inc. said expects remain] [at about 1,200 cars in 1990 .           ]\n",
      "shift           [ROOT inc. said expects remain at] [about 1,200 cars in 1990 .              ]\n",
      "shift           [ROOT inc. said expects remain at about] [1,200 cars in 1990 .                    ]\n",
      "shift           [ROOT inc. said expects remain at about 1,200] [cars in 1990 .                          ]\n",
      "shift           [ROOT inc. said expects remain at about 1,200 cars] [in 1990 .                               ]\n",
      "swap            [ROOT inc. said expects remain at about cars] [1,200 in 1990 .                         ]\n",
      "swap            [ROOT inc. said expects remain at cars] [about 1,200 in 1990 .                   ]\n",
      "shift           [ROOT inc. said expects remain at cars about] [1,200 in 1990 .                         ]\n",
      "shift           [ROOT inc. said expects remain at cars about 1,200] [in 1990 .                               ]\n",
      "right-reduce    [ROOT inc. said expects remain at cars about] [in 1990 .                               ]\n",
      "right-reduce    [ROOT inc. said expects remain at cars] [in 1990 .                               ]\n",
      "right-reduce    [ROOT inc. said expects remain at] [in 1990 .                               ]\n",
      "right-reduce    [ROOT inc. said expects remain] [in 1990 .                               ]\n",
      "shift           [ROOT inc. said expects remain in] [1990 .                                  ]\n",
      "shift           [ROOT inc. said expects remain in 1990] [.                                       ]\n",
      "right-reduce    [ROOT inc. said expects remain in] [.                                       ]\n",
      "right-reduce    [ROOT inc. said expects remain] [.                                       ]\n",
      "right-reduce    [ROOT inc. said expects] [.                                       ]\n",
      "right-reduce    [      ROOT inc. said] [.                                       ]\n",
      "shift           [    ROOT inc. said .] [                                        ]\n",
      "right-reduce    [      ROOT inc. said] [                                        ]\n",
      "left-reduce     [           ROOT said] [                                        ]\n"
     ]
    }
   ],
   "source": [
    "actions=[]\n",
    "\n",
    "for sent in data:\n",
    "    stack=[word_info(-1,\"ROOT\",\"ROOT\",None,None)]\n",
    "    buffer=sent[:]\n",
    "    while len(buffer)>0 and len(stack)>0:\n",
    "       \n",
    "        if len(stack)>2:\n",
    "            next_child_id=next_child(stack[-1],buffer)\n",
    "        \n",
    "            while next_child_id!=0:\n",
    "                stack,buffer,actions=swap_next_child(stack,buffer,actions,next_child_id)\n",
    "                next_child_id=next_child(stack[-1],buffer)\n",
    "                \n",
    "            if stack[-1].head==stack[-2].id:\n",
    "                _=stack.pop(-1)\n",
    "                actions.append(\"right-reduce\")\n",
    "                print(\"{:15} [{:>20}] [{:40}]\".format(\"right-reduce\",\n",
    "                                            \" \".join([wi.word for wi in stack]),\n",
    "                                            \" \".join([wi.word for wi in buffer])))\n",
    "            elif stack[-2].head==stack[-1].id:\n",
    "                _=stack.pop(-2)\n",
    "                actions.append(\"left-reduce\")\n",
    "                print(\"{:15} [{:>20}] [{:40}]\".format(\"left-reduce\",\n",
    "                                            \" \".join([wi.word for wi in stack]),\n",
    "                                            \" \".join([wi.word for wi in buffer])))\n",
    "            else:\n",
    "                stack.append(buffer.pop(0))\n",
    "                actions.append(\"shift\")\n",
    "                print(\"{:15} [{:>20}] [{:40}]\".format(\"shift\",\n",
    "                                                    \" \".join([wi.word for wi in stack]),\n",
    "                                                    \" \".join([wi.word for wi in buffer])))\n",
    "        elif len(stack)>1:\n",
    "            next_child_id=next_child(stack[-1],buffer)\n",
    "        \n",
    "            while next_child_id!=0:\n",
    "                stack,buffer,actions=swap_next_child(stack,buffer,actions,next_child_id)\n",
    "                next_child_id=next_child(stack[-1],buffer)\n",
    "                \n",
    "            stack.append(buffer.pop(0))\n",
    "            actions.append(\"shift\")\n",
    "            print(\"{:15} [{:>20}] [{:40}]\".format(\"shift\",\n",
    "                                                    \" \".join([wi.word for wi in stack]),\n",
    "                                                    \" \".join([wi.word for wi in buffer])))\n",
    "        else:\n",
    "            stack.append(buffer.pop(0))\n",
    "            actions.append(\"shift\")\n",
    "            print(\"{:15} [{:>20}] [{:40}]\".format(\"shift\",\n",
    "                                                    \" \".join([wi.word for wi in stack]),\n",
    "                                                    \" \".join([wi.word for wi in buffer])))\n",
    "    while len(buffer)==0 and len(stack)>2 and len(stack)>2:\n",
    "        if stack[-1].head==stack[-2].id:\n",
    "            _=stack.pop(-1)\n",
    "            actions.append(\"right-reduce\")\n",
    "            print(\"{:15} [{:>20}] [{:40}]\".format(\"right-reduce\",\n",
    "                                        \" \".join([wi.word for wi in stack]),\n",
    "                                        \" \".join([wi.word for wi in buffer])))\n",
    "        elif stack[-2].head==stack[-1].id:\n",
    "            _=stack.pop(-2)\n",
    "            actions.append(\"left-reduce\")\n",
    "            print(\"{:15} [{:>20}] [{:40}]\".format(\"left-reduce\",\n",
    "                                        \" \".join([wi.word for wi in stack]),\n",
    "                                            \" \".join([wi.word for wi in buffer])))"
   ]
  },
  {
   "cell_type": "code",
   "execution_count": 36,
   "metadata": {
    "collapsed": true
   },
   "outputs": [],
   "source": [
    "def swap_next_child(stack,buffer,actions,next_child_id):\n",
    "    while stack[-1].id!=next_child_id:\n",
    "        stack.append(buffer.pop(0))\n",
    "        actions.append(\"shift\")\n",
    "        print(\"{:15} [{:>20}] [{:40}]\".format(\"shift\",\n",
    "                                            \" \".join([wi.word for wi in stack]),\n",
    "                                            \" \".join([wi.word for wi in buffer])))\n",
    "    while stack[-2].id!=stack[-1].head:\n",
    "        buffer.insert(0,stack.pop(-2))\n",
    "        actions.append(\"swap\")\n",
    "        print(\"{:15} [{:>20}] [{:40}]\".format(\"swap\",\n",
    "                                            \" \".join([wi.word for wi in stack]),\n",
    "                                            \" \".join([wi.word for wi in buffer])))\n",
    "    return stack,buffer,actions"
   ]
  },
  {
   "cell_type": "code",
   "execution_count": 30,
   "metadata": {
    "collapsed": true
   },
   "outputs": [],
   "source": [
    "def next_child(word,buffer):\n",
    "    for wi in buffer:\n",
    "        if wi.head==word.id:\n",
    "            return wi.id\n",
    "    return 0"
   ]
  },
  {
   "cell_type": "code",
   "execution_count": 47,
   "metadata": {},
   "outputs": [
    {
     "data": {
      "text/plain": [
       "['shift',\n",
       " 'shift',\n",
       " 'shift',\n",
       " 'shift',\n",
       " 'left-reduce',\n",
       " 'left-reduce',\n",
       " 'left-reduce',\n",
       " 'shift',\n",
       " 'shift',\n",
       " 'shift',\n",
       " 'swap',\n",
       " 'shift',\n",
       " 'right-reduce',\n",
       " 'shift',\n",
       " 'shift',\n",
       " 'shift',\n",
       " 'shift',\n",
       " 'shift',\n",
       " 'swap',\n",
       " 'swap',\n",
       " 'swap',\n",
       " 'swap',\n",
       " 'shift',\n",
       " 'shift',\n",
       " 'shift',\n",
       " 'swap',\n",
       " 'swap',\n",
       " 'shift',\n",
       " 'right-reduce',\n",
       " 'shift',\n",
       " 'right-reduce',\n",
       " 'right-reduce',\n",
       " 'shift',\n",
       " 'right-reduce',\n",
       " 'shift',\n",
       " 'right-reduce',\n",
       " 'shift',\n",
       " 'shift',\n",
       " 'shift',\n",
       " 'shift',\n",
       " 'swap',\n",
       " 'swap',\n",
       " 'shift',\n",
       " 'shift',\n",
       " 'right-reduce',\n",
       " 'right-reduce',\n",
       " 'right-reduce',\n",
       " 'right-reduce',\n",
       " 'shift',\n",
       " 'shift',\n",
       " 'right-reduce',\n",
       " 'right-reduce',\n",
       " 'right-reduce',\n",
       " 'right-reduce',\n",
       " 'shift',\n",
       " 'right-reduce',\n",
       " 'left-reduce']"
      ]
     },
     "execution_count": 47,
     "metadata": {},
     "output_type": "execute_result"
    }
   ],
   "source": [
    "actions"
   ]
  },
  {
   "cell_type": "code",
   "execution_count": 40,
   "metadata": {
    "collapsed": true
   },
   "outputs": [],
   "source": [
    "actions=[]\n",
    "actions.append(\"shift\")"
   ]
  }
 ],
 "metadata": {
  "kernelspec": {
   "display_name": "Python 3",
   "language": "python",
   "name": "python3"
  },
  "language_info": {
   "codemirror_mode": {
    "name": "ipython",
    "version": 3
   },
   "file_extension": ".py",
   "mimetype": "text/x-python",
   "name": "python",
   "nbconvert_exporter": "python",
   "pygments_lexer": "ipython3",
   "version": "3.5.3"
  }
 },
 "nbformat": 4,
 "nbformat_minor": 2
}
