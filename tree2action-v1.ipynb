{
 "cells": [
  {
   "cell_type": "code",
   "execution_count": 40,
   "metadata": {
    "collapsed": true
   },
   "outputs": [],
   "source": [
    "from pprint import pprint\n",
    "from collections import namedtuple\n",
    "import pickle"
   ]
  },
  {
   "cell_type": "code",
   "execution_count": 41,
   "metadata": {
    "collapsed": true
   },
   "outputs": [],
   "source": [
    "word_info=namedtuple(\"word_info\",\"id word pos head rel\".split())"
   ]
  },
  {
   "cell_type": "code",
   "execution_count": 42,
   "metadata": {
    "collapsed": true,
    "scrolled": true
   },
   "outputs": [],
   "source": [
    "data=pickle.load(open(\"./data.pkl\",\"rb\"))"
   ]
  },
  {
   "cell_type": "code",
   "execution_count": 107,
   "metadata": {},
   "outputs": [
    {
     "data": {
      "text/plain": [
       "[word_info(id=0, word='He', pos='PRON', head=8, rel='nsubj'),\n",
       " word_info(id=1, word='is', pos='AUX', head=8, rel='cop'),\n",
       " word_info(id=2, word='no', pos='ADV', head=3, rel='advmod'),\n",
       " word_info(id=3, word='longer', pos='ADV', head=6, rel='advmod'),\n",
       " word_info(id=4, word='in', pos='ADP', head=8, rel='case'),\n",
       " word_info(id=5, word='the', pos='DET', head=8, rel='det'),\n",
       " word_info(id=6, word='dominant', pos='ADJ', head=8, rel='amod'),\n",
       " word_info(id=7, word='Shiite', pos='ADJ', head=8, rel='amod'),\n",
       " word_info(id=8, word='list', pos='NOUN', head=-1, rel='root'),\n",
       " word_info(id=9, word=',', pos='PUNCT', head=8, rel='punct'),\n",
       " word_info(id=10, word='the', pos='DET', head=13, rel='det'),\n",
       " word_info(id=11, word='United', pos='PROPN', head=13, rel='compound'),\n",
       " word_info(id=12, word='Iraqi', pos='PROPN', head=13, rel='compound'),\n",
       " word_info(id=13, word='Alliance', pos='PROPN', head=8, rel='appos'),\n",
       " word_info(id=14, word=',', pos='PUNCT', head=18, rel='punct'),\n",
       " word_info(id=15, word='and', pos='CCONJ', head=18, rel='cc'),\n",
       " word_info(id=16, word='wo', pos='AUX', head=18, rel='aux'),\n",
       " word_info(id=17, word=\"n't\", pos='PART', head=18, rel='advmod'),\n",
       " word_info(id=18, word='have', pos='VERB', head=8, rel='conj'),\n",
       " word_info(id=19, word='many', pos='ADJ', head=20, rel='amod'),\n",
       " word_info(id=20, word='seats', pos='NOUN', head=18, rel='obj'),\n",
       " word_info(id=21, word='in', pos='ADP', head=24, rel='case'),\n",
       " word_info(id=22, word='the', pos='DET', head=24, rel='det'),\n",
       " word_info(id=23, word='new', pos='ADJ', head=24, rel='amod'),\n",
       " word_info(id=24, word='parliament', pos='NOUN', head=20, rel='nmod'),\n",
       " word_info(id=25, word='.', pos='PUNCT', head=8, rel='punct')]"
      ]
     },
     "execution_count": 107,
     "metadata": {},
     "output_type": "execute_result"
    }
   ],
   "source": [
    "data[31]"
   ]
  },
  {
   "cell_type": "code",
   "execution_count": 44,
   "metadata": {
    "code_folding": [],
    "collapsed": true
   },
   "outputs": [],
   "source": [
    "def shift(stack,buffer,actions):\n",
    "    stack.append(buffer.pop(0))\n",
    "    actions.append(\"shift\")\n",
    "    print(\"{:10} [{:>20}] [{:40}]\".format(\"shift\",\n",
    "                                            \" \".join([wi.word for wi in stack]),\n",
    "                                            \" \".join([wi.word for wi in buffer])))\n",
    "    return stack,buffer,actions"
   ]
  },
  {
   "cell_type": "code",
   "execution_count": 45,
   "metadata": {
    "code_folding": [
     0
    ],
    "collapsed": true
   },
   "outputs": [],
   "source": [
    "def swap(stack,buffer,actions):\n",
    "    buffer.insert(0,stack.pop(-2))\n",
    "    actions.append(\"swap\")\n",
    "    print(\"{:10} [{:>20}] [{:40}]\".format(\"swap\",\n",
    "                                            \" \".join([wi.word for wi in stack]),\n",
    "                                            \" \".join([wi.word for wi in buffer])))\n",
    "    return stack,buffer,actions"
   ]
  },
  {
   "cell_type": "code",
   "execution_count": 53,
   "metadata": {
    "code_folding": [],
    "collapsed": true
   },
   "outputs": [],
   "source": [
    "def left_r(stack,actions):\n",
    "    \n",
    "    _=stack.pop(-2)\n",
    "    actions.append(\"left-reduce\")\n",
    "    print(\"{:15} [{:>20}] [{:40}]\".format(\"left-r\",\n",
    "                                        \" \".join([wi.word for wi in stack]),\n",
    "                                        \" \".join([wi.word for wi in buffer])))\n",
    "    return stack,actions\n",
    "    "
   ]
  },
  {
   "cell_type": "code",
   "execution_count": 54,
   "metadata": {
    "code_folding": [],
    "collapsed": true
   },
   "outputs": [],
   "source": [
    "def right_r(stack,actions):\n",
    "    \n",
    "    _=stack.pop(-1)\n",
    "    actions.append(\"right-reduce\")\n",
    "    print(\"{:15} [{:>20}] [{:40}]\".format(\"right-r\",\n",
    "                                \" \".join([wi.word for wi in stack]),\n",
    "                                \" \".join([wi.word for wi in buffer])))\n",
    "    return stack,actions"
   ]
  },
  {
   "cell_type": "code",
   "execution_count": 48,
   "metadata": {
    "code_folding": [],
    "collapsed": true
   },
   "outputs": [],
   "source": [
    "def swap_next_child(stack,buffer,actions,next_child_id):\n",
    "    print(\"\\nprocess non-proj child swap {}\".format(next_child_id))\n",
    "    \n",
    "    while stack[-1].id!=next_child_id:\n",
    "        stack,buffer,actions=shift(stack,buffer,actions)\n",
    "        \n",
    "        \n",
    "    while stack[-2].id!=stack[-1].head:\n",
    "        stack,buffer,actions=swap(stack,buffer,actions)\n",
    "    print(\"end process non-proj ...\\n\")\n",
    "    return stack,buffer,actions"
   ]
  },
  {
   "cell_type": "code",
   "execution_count": null,
   "metadata": {
    "collapsed": true
   },
   "outputs": [],
   "source": [
    "def swap_next_child(stack,buffer,actions,next_father_id):\n",
    "    print(\"\\nprocess non-proj father swap {}\".format(next_father_id))\n",
    "    \n",
    "    while stack[-1].id!=next_child_id:\n",
    "        stack,buffer,actions=shift(stack,buffer,actions)\n",
    "        \n",
    "        \n",
    "    while stack[-2].id!=stack[-1].head:\n",
    "        stack,buffer,actions=swap(stack,buffer,actions)\n",
    "    print(\"end process non-proj ...\\n\")\n",
    "    return stack,buffer,actions"
   ]
  },
  {
   "cell_type": "code",
   "execution_count": 49,
   "metadata": {
    "code_folding": [],
    "collapsed": true
   },
   "outputs": [],
   "source": [
    "def next_child(word,buffer):\n",
    "    \n",
    "    for wi in buffer:\n",
    "        if wi.head==word.id:\n",
    "            return wi.id\n",
    "    return 0"
   ]
  },
  {
   "cell_type": "code",
   "execution_count": 108,
   "metadata": {
    "scrolled": true
   },
   "outputs": [
    {
     "name": "stdout",
     "output_type": "stream",
     "text": [
      "shift      [             ROOT He] [is no longer in the dominant Shiite list , the United Iraqi Alliance , and wo n't have many seats in the new parliament .]\n",
      "\n",
      "0\n",
      "shift      [          ROOT He is] [no longer in the dominant Shiite list , the United Iraqi Alliance , and wo n't have many seats in the new parliament .]\n",
      "\n",
      "0\n",
      "shift      [       ROOT He is no] [longer in the dominant Shiite list , the United Iraqi Alliance , and wo n't have many seats in the new parliament .]\n",
      "\n",
      "0\n",
      "shift      [ROOT He is no longer] [in the dominant Shiite list , the United Iraqi Alliance , and wo n't have many seats in the new parliament .]\n",
      "\n",
      "0\n",
      "left-r          [   ROOT He is longer] [in the dominant Shiite list , the United Iraqi Alliance , and wo n't have many seats in the new parliament .]\n",
      "\n",
      "0\n",
      "shift      [ROOT He is longer in] [the dominant Shiite list , the United Iraqi Alliance , and wo n't have many seats in the new parliament .]\n",
      "\n",
      "0\n",
      "shift      [ROOT He is longer in the] [dominant Shiite list , the United Iraqi Alliance , and wo n't have many seats in the new parliament .]\n",
      "\n",
      "0\n",
      "shift      [ROOT He is longer in the dominant] [Shiite list , the United Iraqi Alliance , and wo n't have many seats in the new parliament .]\n",
      "\n",
      "0\n",
      "shift      [ROOT He is longer in the dominant Shiite] [list , the United Iraqi Alliance , and wo n't have many seats in the new parliament .]\n",
      "\n",
      "0\n",
      "shift      [ROOT He is longer in the dominant Shiite list] [, the United Iraqi Alliance , and wo n't have many seats in the new parliament .]\n",
      "\n",
      "9\n",
      "left-r          [ROOT He is longer in the dominant list] [, the United Iraqi Alliance , and wo n't have many seats in the new parliament .]\n",
      "\n",
      "9\n",
      "left-r          [ROOT He is longer in the list] [, the United Iraqi Alliance , and wo n't have many seats in the new parliament .]\n",
      "\n",
      "9\n",
      "left-r          [ROOT He is longer in list] [, the United Iraqi Alliance , and wo n't have many seats in the new parliament .]\n",
      "\n",
      "9\n",
      "left-r          [ROOT He is longer list] [, the United Iraqi Alliance , and wo n't have many seats in the new parliament .]\n",
      "\n",
      "9\n",
      "shift      [ROOT He is longer list ,] [the United Iraqi Alliance , and wo n't have many seats in the new parliament .]\n"
     ]
    },
    {
     "ename": "KeyboardInterrupt",
     "evalue": "",
     "output_type": "error",
     "traceback": [
      "\u001b[0;31m---------------------------------------------------------------------------\u001b[0m",
      "\u001b[0;31mKeyboardInterrupt\u001b[0m                         Traceback (most recent call last)",
      "\u001b[0;32m~/Envs/py3.5/lib/python3.5/site-packages/ipykernel/kernelbase.py\u001b[0m in \u001b[0;36m_input_request\u001b[0;34m(self, prompt, ident, parent, password)\u001b[0m\n\u001b[1;32m    729\u001b[0m             \u001b[0;32mtry\u001b[0m\u001b[0;34m:\u001b[0m\u001b[0;34m\u001b[0m\u001b[0m\n\u001b[0;32m--> 730\u001b[0;31m                 \u001b[0mident\u001b[0m\u001b[0;34m,\u001b[0m \u001b[0mreply\u001b[0m \u001b[0;34m=\u001b[0m \u001b[0mself\u001b[0m\u001b[0;34m.\u001b[0m\u001b[0msession\u001b[0m\u001b[0;34m.\u001b[0m\u001b[0mrecv\u001b[0m\u001b[0;34m(\u001b[0m\u001b[0mself\u001b[0m\u001b[0;34m.\u001b[0m\u001b[0mstdin_socket\u001b[0m\u001b[0;34m,\u001b[0m \u001b[0;36m0\u001b[0m\u001b[0;34m)\u001b[0m\u001b[0;34m\u001b[0m\u001b[0m\n\u001b[0m\u001b[1;32m    731\u001b[0m             \u001b[0;32mexcept\u001b[0m \u001b[0mException\u001b[0m\u001b[0;34m:\u001b[0m\u001b[0;34m\u001b[0m\u001b[0m\n",
      "\u001b[0;32m~/Envs/py3.5/lib/python3.5/site-packages/jupyter_client/session.py\u001b[0m in \u001b[0;36mrecv\u001b[0;34m(self, socket, mode, content, copy)\u001b[0m\n\u001b[1;32m    795\u001b[0m         \u001b[0;32mtry\u001b[0m\u001b[0;34m:\u001b[0m\u001b[0;34m\u001b[0m\u001b[0m\n\u001b[0;32m--> 796\u001b[0;31m             \u001b[0mmsg_list\u001b[0m \u001b[0;34m=\u001b[0m \u001b[0msocket\u001b[0m\u001b[0;34m.\u001b[0m\u001b[0mrecv_multipart\u001b[0m\u001b[0;34m(\u001b[0m\u001b[0mmode\u001b[0m\u001b[0;34m,\u001b[0m \u001b[0mcopy\u001b[0m\u001b[0;34m=\u001b[0m\u001b[0mcopy\u001b[0m\u001b[0;34m)\u001b[0m\u001b[0;34m\u001b[0m\u001b[0m\n\u001b[0m\u001b[1;32m    797\u001b[0m         \u001b[0;32mexcept\u001b[0m \u001b[0mzmq\u001b[0m\u001b[0;34m.\u001b[0m\u001b[0mZMQError\u001b[0m \u001b[0;32mas\u001b[0m \u001b[0me\u001b[0m\u001b[0;34m:\u001b[0m\u001b[0;34m\u001b[0m\u001b[0m\n",
      "\u001b[0;32m~/Envs/py3.5/lib/python3.5/site-packages/zmq/sugar/socket.py\u001b[0m in \u001b[0;36mrecv_multipart\u001b[0;34m(self, flags, copy, track)\u001b[0m\n\u001b[1;32m    394\u001b[0m         \"\"\"\n\u001b[0;32m--> 395\u001b[0;31m         \u001b[0mparts\u001b[0m \u001b[0;34m=\u001b[0m \u001b[0;34m[\u001b[0m\u001b[0mself\u001b[0m\u001b[0;34m.\u001b[0m\u001b[0mrecv\u001b[0m\u001b[0;34m(\u001b[0m\u001b[0mflags\u001b[0m\u001b[0;34m,\u001b[0m \u001b[0mcopy\u001b[0m\u001b[0;34m=\u001b[0m\u001b[0mcopy\u001b[0m\u001b[0;34m,\u001b[0m \u001b[0mtrack\u001b[0m\u001b[0;34m=\u001b[0m\u001b[0mtrack\u001b[0m\u001b[0;34m)\u001b[0m\u001b[0;34m]\u001b[0m\u001b[0;34m\u001b[0m\u001b[0m\n\u001b[0m\u001b[1;32m    396\u001b[0m         \u001b[0;31m# have first part already, only loop while more to receive\u001b[0m\u001b[0;34m\u001b[0m\u001b[0;34m\u001b[0m\u001b[0m\n",
      "\u001b[0;32mzmq/backend/cython/socket.pyx\u001b[0m in \u001b[0;36mzmq.backend.cython.socket.Socket.recv (zmq/backend/cython/socket.c:7683)\u001b[0;34m()\u001b[0m\n",
      "\u001b[0;32mzmq/backend/cython/socket.pyx\u001b[0m in \u001b[0;36mzmq.backend.cython.socket.Socket.recv (zmq/backend/cython/socket.c:7460)\u001b[0;34m()\u001b[0m\n",
      "\u001b[0;32mzmq/backend/cython/socket.pyx\u001b[0m in \u001b[0;36mzmq.backend.cython.socket._recv_copy (zmq/backend/cython/socket.c:2344)\u001b[0;34m()\u001b[0m\n",
      "\u001b[0;32m~/Envs/py3.5/lib/python3.5/site-packages/zmq/backend/cython/checkrc.pxd\u001b[0m in \u001b[0;36mzmq.backend.cython.checkrc._check_rc (zmq/backend/cython/socket.c:9621)\u001b[0;34m()\u001b[0m\n",
      "\u001b[0;31mKeyboardInterrupt\u001b[0m: ",
      "\nDuring handling of the above exception, another exception occurred:\n",
      "\u001b[0;31mKeyboardInterrupt\u001b[0m                         Traceback (most recent call last)",
      "\u001b[0;32m<ipython-input-108-af3ae836c95e>\u001b[0m in \u001b[0;36m<module>\u001b[0;34m()\u001b[0m\n\u001b[1;32m     43\u001b[0m                 stack, buffer, actions = swap_next_child(\n\u001b[1;32m     44\u001b[0m                     stack, buffer, actions, next_child_id)\n\u001b[0;32m---> 45\u001b[0;31m         \u001b[0minput\u001b[0m\u001b[0;34m(\u001b[0m\u001b[0;34m)\u001b[0m\u001b[0;34m\u001b[0m\u001b[0m\n\u001b[0m\u001b[1;32m     46\u001b[0m \u001b[0;34m\u001b[0m\u001b[0m\n\u001b[1;32m     47\u001b[0m     \u001b[0;32mwhile\u001b[0m \u001b[0mlen\u001b[0m\u001b[0;34m(\u001b[0m\u001b[0mstack\u001b[0m\u001b[0;34m)\u001b[0m\u001b[0;34m>\u001b[0m\u001b[0;36m1\u001b[0m\u001b[0;34m:\u001b[0m\u001b[0;34m\u001b[0m\u001b[0m\n",
      "\u001b[0;32m~/Envs/py3.5/lib/python3.5/site-packages/ipykernel/kernelbase.py\u001b[0m in \u001b[0;36mraw_input\u001b[0;34m(self, prompt)\u001b[0m\n\u001b[1;32m    703\u001b[0m             \u001b[0mself\u001b[0m\u001b[0;34m.\u001b[0m\u001b[0m_parent_ident\u001b[0m\u001b[0;34m,\u001b[0m\u001b[0;34m\u001b[0m\u001b[0m\n\u001b[1;32m    704\u001b[0m             \u001b[0mself\u001b[0m\u001b[0;34m.\u001b[0m\u001b[0m_parent_header\u001b[0m\u001b[0;34m,\u001b[0m\u001b[0;34m\u001b[0m\u001b[0m\n\u001b[0;32m--> 705\u001b[0;31m             \u001b[0mpassword\u001b[0m\u001b[0;34m=\u001b[0m\u001b[0;32mFalse\u001b[0m\u001b[0;34m,\u001b[0m\u001b[0;34m\u001b[0m\u001b[0m\n\u001b[0m\u001b[1;32m    706\u001b[0m         )\n\u001b[1;32m    707\u001b[0m \u001b[0;34m\u001b[0m\u001b[0m\n",
      "\u001b[0;32m~/Envs/py3.5/lib/python3.5/site-packages/ipykernel/kernelbase.py\u001b[0m in \u001b[0;36m_input_request\u001b[0;34m(self, prompt, ident, parent, password)\u001b[0m\n\u001b[1;32m    733\u001b[0m             \u001b[0;32mexcept\u001b[0m \u001b[0mKeyboardInterrupt\u001b[0m\u001b[0;34m:\u001b[0m\u001b[0;34m\u001b[0m\u001b[0m\n\u001b[1;32m    734\u001b[0m                 \u001b[0;31m# re-raise KeyboardInterrupt, to truncate traceback\u001b[0m\u001b[0;34m\u001b[0m\u001b[0;34m\u001b[0m\u001b[0m\n\u001b[0;32m--> 735\u001b[0;31m                 \u001b[0;32mraise\u001b[0m \u001b[0mKeyboardInterrupt\u001b[0m\u001b[0;34m\u001b[0m\u001b[0m\n\u001b[0m\u001b[1;32m    736\u001b[0m             \u001b[0;32melse\u001b[0m\u001b[0;34m:\u001b[0m\u001b[0;34m\u001b[0m\u001b[0m\n\u001b[1;32m    737\u001b[0m                 \u001b[0;32mbreak\u001b[0m\u001b[0;34m\u001b[0m\u001b[0m\n",
      "\u001b[0;31mKeyboardInterrupt\u001b[0m: "
     ]
    }
   ],
   "source": [
    "actions = []\n",
    "outputs = []\n",
    "\n",
    "for sent in data[31:]:\n",
    "    stack = [word_info(-1, \"ROOT\", \"ROOT\", None, None)]\n",
    "    buffer = sent[:]\n",
    "\n",
    "    while len(buffer) > 0:\n",
    "        if len(stack) == 1:\n",
    "            stack, buffer, actions = shift(stack, buffer, actions)\n",
    "        elif len(stack) == 2:\n",
    "            next_child_id = next_child(stack[-1], buffer)\n",
    "            print(next_child_id)\n",
    "            if next_child_id == buffer[0].id:\n",
    "                stack, buffer, actions = shift(stack, buffer, actions)\n",
    "                if next_child(stack[-1], buffer)==0:\n",
    "                    stack, actions = right_r(stack, actions)\n",
    "            elif next_child_id == 0:\n",
    "                stack, buffer, actions = shift(stack, buffer, actions)\n",
    "                if stack[-2].head == stack[-1].id:\n",
    "                    stack, actions = left_r(stack, actions)\n",
    "                elif stack[-2].id == stack[-1].head:\n",
    "                    stack, actions = right_r(stack, actions)\n",
    "            else:\n",
    "                stack, buffer, actions = swap_next_child(\n",
    "                    stack, buffer, actions, next_child_id)\n",
    "        else:\n",
    "            next_child_id = next_child(stack[-1], buffer)\n",
    "            print(next_child_id)\n",
    "\n",
    "            if stack[-2].head == stack[-1].id:\n",
    "                stack, actions = left_r(stack, actions)\n",
    "            elif next_child_id == buffer[0].id:\n",
    "                stack, buffer, actions = shift(stack, buffer, actions)\n",
    "            elif next_child_id == 0:\n",
    "                if stack[-2].head == stack[-1].id:\n",
    "                    stack, actions = left_r(stack, actions)\n",
    "                elif stack[-2].id == stack[-1].head:\n",
    "                    stack, actions = right_r(stack, actions)\n",
    "                else:\n",
    "                    stack, buffer, actions = shift(stack, buffer, actions)\n",
    "            else:\n",
    "                stack, buffer, actions = swap_next_child(\n",
    "                    stack, buffer, actions, next_child_id)\n",
    "        input()\n",
    "        \n",
    "    while len(stack)>1:\n",
    "        if stack[-2].head == stack[-1].id:\n",
    "                    stack, actions = left_r(stack, actions)\n",
    "        elif stack[-2].id == stack[-1].head:\n",
    "                    stack, actions = right_r(stack, actions)\n",
    "        input()\n",
    "    outputs.append(actions)\n",
    "    actions = []"
   ]
  },
  {
   "cell_type": "code",
   "execution_count": 11,
   "metadata": {
    "collapsed": true
   },
   "outputs": [],
   "source": [
    "pickle.dump(outputs,open(\"parsing_sequences.pkl\",\"wb\"))"
   ]
  }
 ],
 "metadata": {
  "kernelspec": {
   "display_name": "Python 3",
   "language": "python",
   "name": "python3"
  },
  "language_info": {
   "codemirror_mode": {
    "name": "ipython",
    "version": 3
   },
   "file_extension": ".py",
   "mimetype": "text/x-python",
   "name": "python",
   "nbconvert_exporter": "python",
   "pygments_lexer": "ipython3",
   "version": "3.5.0"
  }
 },
 "nbformat": 4,
 "nbformat_minor": 2
}
