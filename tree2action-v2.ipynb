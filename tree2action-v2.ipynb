{
 "cells": [
  {
   "cell_type": "code",
   "execution_count": 1,
   "metadata": {
    "collapsed": true
   },
   "outputs": [],
   "source": [
    "from pprint import pprint\n",
    "from collections import namedtuple\n",
    "import pickle"
   ]
  },
  {
   "cell_type": "code",
   "execution_count": 2,
   "metadata": {
    "collapsed": true
   },
   "outputs": [],
   "source": [
    "word_info=namedtuple(\"word_info\",\"id word pos head rel\".split())"
   ]
  },
  {
   "cell_type": "code",
   "execution_count": 3,
   "metadata": {
    "collapsed": true,
    "scrolled": true
   },
   "outputs": [],
   "source": [
    "data=pickle.load(open(\"./data.pkl\",\"rb\"))"
   ]
  },
  {
   "cell_type": "code",
   "execution_count": 4,
   "metadata": {},
   "outputs": [
    {
     "data": {
      "text/plain": [
       "[word_info(id=0, word='He', pos='PRON', head=8, rel='nsubj'),\n",
       " word_info(id=1, word='is', pos='AUX', head=8, rel='cop'),\n",
       " word_info(id=2, word='no', pos='ADV', head=3, rel='advmod'),\n",
       " word_info(id=3, word='longer', pos='ADV', head=6, rel='advmod'),\n",
       " word_info(id=4, word='in', pos='ADP', head=8, rel='case'),\n",
       " word_info(id=5, word='the', pos='DET', head=8, rel='det'),\n",
       " word_info(id=6, word='dominant', pos='ADJ', head=8, rel='amod'),\n",
       " word_info(id=7, word='Shiite', pos='ADJ', head=8, rel='amod'),\n",
       " word_info(id=8, word='list', pos='NOUN', head=-1, rel='root'),\n",
       " word_info(id=9, word=',', pos='PUNCT', head=8, rel='punct'),\n",
       " word_info(id=10, word='the', pos='DET', head=13, rel='det'),\n",
       " word_info(id=11, word='United', pos='PROPN', head=13, rel='compound'),\n",
       " word_info(id=12, word='Iraqi', pos='PROPN', head=13, rel='compound'),\n",
       " word_info(id=13, word='Alliance', pos='PROPN', head=8, rel='appos'),\n",
       " word_info(id=14, word=',', pos='PUNCT', head=18, rel='punct'),\n",
       " word_info(id=15, word='and', pos='CCONJ', head=18, rel='cc'),\n",
       " word_info(id=16, word='wo', pos='AUX', head=18, rel='aux'),\n",
       " word_info(id=17, word=\"n't\", pos='PART', head=18, rel='advmod'),\n",
       " word_info(id=18, word='have', pos='VERB', head=8, rel='conj'),\n",
       " word_info(id=19, word='many', pos='ADJ', head=20, rel='amod'),\n",
       " word_info(id=20, word='seats', pos='NOUN', head=18, rel='obj'),\n",
       " word_info(id=21, word='in', pos='ADP', head=24, rel='case'),\n",
       " word_info(id=22, word='the', pos='DET', head=24, rel='det'),\n",
       " word_info(id=23, word='new', pos='ADJ', head=24, rel='amod'),\n",
       " word_info(id=24, word='parliament', pos='NOUN', head=20, rel='nmod'),\n",
       " word_info(id=25, word='.', pos='PUNCT', head=8, rel='punct')]"
      ]
     },
     "execution_count": 4,
     "metadata": {},
     "output_type": "execute_result"
    }
   ],
   "source": [
    "data[31]"
   ]
  },
  {
   "cell_type": "code",
   "execution_count": 5,
   "metadata": {
    "code_folding": [],
    "collapsed": true
   },
   "outputs": [],
   "source": [
    "def shift(stack,buffer,actions):\n",
    "    stack.append(buffer.pop(0))\n",
    "    actions.append(\"shift\")\n",
    "    print(\"{:10} [{:>20}] [{:40}]\".format(\"shift\",\n",
    "                                            \" \".join([wi.word for wi in stack]),\n",
    "                                            \" \".join([wi.word for wi in buffer])))\n",
    "    return stack,buffer,actions"
   ]
  },
  {
   "cell_type": "code",
   "execution_count": 6,
   "metadata": {
    "code_folding": [],
    "collapsed": true
   },
   "outputs": [],
   "source": [
    "def swap(stack,buffer,actions):\n",
    "    buffer.insert(0,stack.pop(-2))\n",
    "    actions.append(\"swap\")\n",
    "    print(\"{:10} [{:>20}] [{:40}]\".format(\"swap\",\n",
    "                                            \" \".join([wi.word for wi in stack]),\n",
    "                                            \" \".join([wi.word for wi in buffer])))\n",
    "    return stack,buffer,actions"
   ]
  },
  {
   "cell_type": "code",
   "execution_count": 7,
   "metadata": {
    "code_folding": [],
    "collapsed": true
   },
   "outputs": [],
   "source": [
    "def left_r(stack,actions):\n",
    "    \n",
    "    _=stack.pop(-2)\n",
    "    actions.append(\"left-reduce\")\n",
    "    print(\"{:15} [{:>20}] [{:40}]\".format(\"left-r\",\n",
    "                                        \" \".join([wi.word for wi in stack]),\n",
    "                                        \" \".join([wi.word for wi in buffer])))\n",
    "    return stack,actions\n",
    "    "
   ]
  },
  {
   "cell_type": "code",
   "execution_count": 8,
   "metadata": {
    "code_folding": [],
    "collapsed": true
   },
   "outputs": [],
   "source": [
    "def right_r(stack,actions):\n",
    "    \n",
    "    _=stack.pop(-1)\n",
    "    actions.append(\"right-reduce\")\n",
    "    print(\"{:15} [{:>20}] [{:40}]\".format(\"right-r\",\n",
    "                                \" \".join([wi.word for wi in stack]),\n",
    "                                \" \".join([wi.word for wi in buffer])))\n",
    "    return stack,actions"
   ]
  },
  {
   "cell_type": "code",
   "execution_count": 9,
   "metadata": {
    "collapsed": true
   },
   "outputs": [],
   "source": [
    "def next_child(word,buffer):\n",
    "    for wi in buffer:\n",
    "        if word.id==wi.head:\n",
    "            return wi.id\n",
    "    return None"
   ]
  },
  {
   "cell_type": "code",
   "execution_count": null,
   "metadata": {
    "scrolled": true
   },
   "outputs": [
    {
     "name": "stdout",
     "output_type": "stream",
     "text": [
      "shift      [             ROOT He] [is no longer in the dominant Shiite list , the United Iraqi Alliance , and wo n't have many seats in the new parliament .]\n",
      "\n"
     ]
    },
    {
     "data": {
      "text/plain": [
       "''"
      ]
     },
     "execution_count": 14,
     "metadata": {},
     "output_type": "execute_result"
    },
    {
     "name": "stdout",
     "output_type": "stream",
     "text": [
      "head: 8\tchild: None\n",
      "shift      [          ROOT He is] [no longer in the dominant Shiite list , the United Iraqi Alliance , and wo n't have many seats in the new parliament .]\n",
      "\n"
     ]
    },
    {
     "data": {
      "text/plain": [
       "''"
      ]
     },
     "execution_count": 14,
     "metadata": {},
     "output_type": "execute_result"
    },
    {
     "name": "stdout",
     "output_type": "stream",
     "text": [
      "head_1: 8\tchild_1: None\thead_2: 8\tchild_2: None\n",
      "shift      [       ROOT He is no] [longer in the dominant Shiite list , the United Iraqi Alliance , and wo n't have many seats in the new parliament .]\n",
      "shift      [ROOT He is no longer] [in the dominant Shiite list , the United Iraqi Alliance , and wo n't have many seats in the new parliament .]\n",
      "swap       [   ROOT He is longer] [no in the dominant Shiite list , the United Iraqi Alliance , and wo n't have many seats in the new parliament .]\n"
     ]
    }
   ],
   "source": [
    "actions = []\n",
    "outputs = []\n",
    "\n",
    "for sent in data[31:]:\n",
    "    stack = [word_info(-1, \"ROOT\", \"ROOT\", None, None)]\n",
    "    buffer = sent[:]\n",
    "\n",
    "    while len(buffer) > 0:\n",
    "        if len(stack)==1:\n",
    "            stack, buffer, actions=shift(stack, buffer, actions)\n",
    "        else:\n",
    "            \n",
    "            if len(stack)==2:\n",
    "                head=stack[-1].head\n",
    "                child=next_child(stack[-1],buffer)\n",
    "                print(\"head: {}\\tchild: {}\".format(head,child))\n",
    "                if not child:\n",
    "                    if head==buffer[0].head or head==buffer[0].id:\n",
    "                        stack, buffer, actions=shift(stack, buffer, actions)\n",
    "                    else:\n",
    "                        stack, buffer, actions=shift(stack, buffer, actions)\n",
    "                        stack, buffer, actions=shift(stack, buffer, actions)\n",
    "                        stack, buffer, actions=swap(stack, buffer, actions)\n",
    "                else:\n",
    "                    while buffer[0].id==child:\n",
    "                        stack, buffer, actions=shift(stack, buffer, actions)\n",
    "                    while stack[-1].head==stack[-2].id:\n",
    "                        stack, buffer, actions=shift(stack, buffer, actions)\n",
    "            else:\n",
    "                head_1=stack[-1].head\n",
    "                child_1=next_child(stack[-1],buffer)\n",
    "                head_2=stack[-2].head\n",
    "                child_2=next_child(stack[-2],buffer)\n",
    "                print(\"head_1: {}\\tchild_1: {}\\thead_2: {}\\tchild_2: {}\".format(head_1,child_1,head_2,child_2))\n",
    "                if not child_1 and not child_2:\n",
    "                    if head_1==stack[-2].id:\n",
    "                        stack,actions=right_r(stack,actions)\n",
    "                    elif head_2==stack[1].id:\n",
    "                        stack,actions=left_r(stack,actions)\n",
    "                    else:\n",
    "                        if head_1==buffer[0].head or head_1==buffer[0].id:\n",
    "                            stack, buffer, actions=shift(stack, buffer, actions)\n",
    "                        else:\n",
    "                            stack, buffer, actions=shift(stack, buffer, actions)\n",
    "                            stack, buffer, actions=shift(stack, buffer, actions)\n",
    "                            stack, buffer, actions=swap(stack, buffer, actions)\n",
    "                elif child_2:\n",
    "                    pass\n",
    "                else:\n",
    "                    while buffer[0].id==child_1:\n",
    "                        stack, buffer, actions=shift(stack, buffer, actions)\n",
    "                    while stack[-1].head==stack[-2].id:\n",
    "                        stack, buffer, actions=shift(stack, buffer, actions)\n",
    "            \n",
    "            \n",
    "        input()\n",
    "        \n",
    "    while len(stack)>1:\n",
    "        if stack[-2].head == stack[-1].id:\n",
    "                    stack, actions = left_r(stack, actions)\n",
    "        elif stack[-2].id == stack[-1].head:\n",
    "                    stack, actions = right_r(stack, actions)\n",
    "        input()\n",
    "    outputs.append(actions)\n",
    "    actions = []"
   ]
  },
  {
   "cell_type": "code",
   "execution_count": 11,
   "metadata": {
    "collapsed": true
   },
   "outputs": [],
   "source": [
    "pickle.dump(outputs,open(\"parsing_sequences.pkl\",\"wb\"))"
   ]
  }
 ],
 "metadata": {
  "kernelspec": {
   "display_name": "Python 3",
   "language": "python",
   "name": "python3"
  },
  "language_info": {
   "codemirror_mode": {
    "name": "ipython",
    "version": 3
   },
   "file_extension": ".py",
   "mimetype": "text/x-python",
   "name": "python",
   "nbconvert_exporter": "python",
   "pygments_lexer": "ipython3",
   "version": "3.5.3"
  }
 },
 "nbformat": 4,
 "nbformat_minor": 2
}
